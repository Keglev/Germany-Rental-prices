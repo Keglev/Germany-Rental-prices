{
 "cells": [
  {
   "cell_type": "markdown",
   "id": "068876c7",
   "metadata": {},
   "source": [
    "# 1 Import Libraries"
   ]
  },
  {
   "cell_type": "code",
   "execution_count": 13,
   "id": "77cddaf7",
   "metadata": {},
   "outputs": [],
   "source": [
    "import pandas as pd\n",
    "import numpy as np\n",
    "import seaborn as sns\n",
    "import matplotlib\n",
    "import matplotlib.pyplot as plt\n",
    "import os\n",
    "import sklearn\n",
    "from sklearn.model_selection import train_test_split \n",
    "from sklearn.linear_model import LinearRegression\n",
    "from sklearn.metrics import mean_squared_error, r2_score"
   ]
  },
  {
   "cell_type": "code",
   "execution_count": 14,
   "id": "bafaeab4",
   "metadata": {},
   "outputs": [],
   "source": [
    "# This option ensures that the graphs you create are displayed within the notebook without the need to \"call\" them specifically.\n",
    "\n",
    "%matplotlib inline"
   ]
  },
  {
   "cell_type": "markdown",
   "id": "684c6cea",
   "metadata": {},
   "source": [
    "# 2 defining path and import dataset"
   ]
  },
  {
   "cell_type": "code",
   "execution_count": 15,
   "id": "1c6d1333",
   "metadata": {},
   "outputs": [],
   "source": [
    "# Path and Setup\n",
    "path = r'/Users/carlo/documents/03_08_22_project_6/'"
   ]
  },
  {
   "cell_type": "code",
   "execution_count": 16,
   "id": "3f1f59db",
   "metadata": {},
   "outputs": [],
   "source": [
    "# Importing dataset\n",
    "\n",
    "# importing rent data\n",
    "df_immo2 = pd.read_csv(os.path.join(path, 'data', 'Modified Data', 'immo_cleaned2.csv'), index_col = False)"
   ]
  },
  {
   "cell_type": "markdown",
   "id": "4592580a",
   "metadata": {},
   "source": [
    "# 3 Exploring DataSet"
   ]
  },
  {
   "cell_type": "code",
   "execution_count": 17,
   "id": "05cde9fc",
   "metadata": {},
   "outputs": [
    {
     "data": {
      "text/plain": [
       "(179770, 24)"
      ]
     },
     "execution_count": 17,
     "metadata": {},
     "output_type": "execute_result"
    }
   ],
   "source": [
    "df_immo2.shape"
   ]
  },
  {
   "cell_type": "code",
   "execution_count": 18,
   "id": "d5d2b017",
   "metadata": {},
   "outputs": [
    {
     "data": {
      "text/plain": [
       "Index(['Unnamed: 0', 'regio1', 'serviceCharge', 'heatingType', 'newlyConst',\n",
       "       'balcony', 'totalRent', 'yearConstructed', 'hasKitchen', 'geo_bln',\n",
       "       'cellar', 'livingSpace', 'geo_krs', 'condition', 'lift',\n",
       "       'baseRentRange', 'typeOfFlat', 'geo_plz', 'noRooms', 'noRoomsRange',\n",
       "       'regio2', 'numberOfYear', 'Pricepm2', 'additioncost'],\n",
       "      dtype='object')"
      ]
     },
     "execution_count": 18,
     "metadata": {},
     "output_type": "execute_result"
    }
   ],
   "source": [
    "df_immo2.columns"
   ]
  },
  {
   "cell_type": "code",
   "execution_count": 19,
   "id": "08db7316",
   "metadata": {},
   "outputs": [
    {
     "data": {
      "text/html": [
       "<div>\n",
       "<style scoped>\n",
       "    .dataframe tbody tr th:only-of-type {\n",
       "        vertical-align: middle;\n",
       "    }\n",
       "\n",
       "    .dataframe tbody tr th {\n",
       "        vertical-align: top;\n",
       "    }\n",
       "\n",
       "    .dataframe thead th {\n",
       "        text-align: right;\n",
       "    }\n",
       "</style>\n",
       "<table border=\"1\" class=\"dataframe\">\n",
       "  <thead>\n",
       "    <tr style=\"text-align: right;\">\n",
       "      <th></th>\n",
       "      <th>Unnamed: 0</th>\n",
       "      <th>serviceCharge</th>\n",
       "      <th>totalRent</th>\n",
       "      <th>yearConstructed</th>\n",
       "      <th>livingSpace</th>\n",
       "      <th>baseRentRange</th>\n",
       "      <th>geo_plz</th>\n",
       "      <th>noRooms</th>\n",
       "      <th>noRoomsRange</th>\n",
       "      <th>numberOfYear</th>\n",
       "      <th>Pricepm2</th>\n",
       "      <th>additioncost</th>\n",
       "    </tr>\n",
       "  </thead>\n",
       "  <tbody>\n",
       "    <tr>\n",
       "      <th>count</th>\n",
       "      <td>179770.000000</td>\n",
       "      <td>178117.00000</td>\n",
       "      <td>179770.000000</td>\n",
       "      <td>179770.000000</td>\n",
       "      <td>179770.000000</td>\n",
       "      <td>179770.000000</td>\n",
       "      <td>179770.000000</td>\n",
       "      <td>179770.000000</td>\n",
       "      <td>179770.000000</td>\n",
       "      <td>179770.000000</td>\n",
       "      <td>1.797650e+05</td>\n",
       "      <td>179770.000000</td>\n",
       "    </tr>\n",
       "    <tr>\n",
       "      <th>mean</th>\n",
       "      <td>134025.587167</td>\n",
       "      <td>145.56906</td>\n",
       "      <td>763.638309</td>\n",
       "      <td>1965.595071</td>\n",
       "      <td>70.965528</td>\n",
       "      <td>3.617400</td>\n",
       "      <td>35429.450626</td>\n",
       "      <td>2.589332</td>\n",
       "      <td>2.540674</td>\n",
       "      <td>56.404929</td>\n",
       "      <td>inf</td>\n",
       "      <td>166.018228</td>\n",
       "    </tr>\n",
       "    <tr>\n",
       "      <th>std</th>\n",
       "      <td>77578.092449</td>\n",
       "      <td>74.00186</td>\n",
       "      <td>416.991114</td>\n",
       "      <td>34.482667</td>\n",
       "      <td>27.420886</td>\n",
       "      <td>2.118382</td>\n",
       "      <td>27685.180905</td>\n",
       "      <td>0.919509</td>\n",
       "      <td>0.903646</td>\n",
       "      <td>34.482667</td>\n",
       "      <td>NaN</td>\n",
       "      <td>78.850633</td>\n",
       "    </tr>\n",
       "    <tr>\n",
       "      <th>min</th>\n",
       "      <td>0.000000</td>\n",
       "      <td>0.00000</td>\n",
       "      <td>0.000000</td>\n",
       "      <td>1861.000000</td>\n",
       "      <td>0.000000</td>\n",
       "      <td>1.000000</td>\n",
       "      <td>852.000000</td>\n",
       "      <td>1.000000</td>\n",
       "      <td>1.000000</td>\n",
       "      <td>1.000000</td>\n",
       "      <td>0.000000e+00</td>\n",
       "      <td>-650.520000</td>\n",
       "    </tr>\n",
       "    <tr>\n",
       "      <th>25%</th>\n",
       "      <td>66866.250000</td>\n",
       "      <td>95.00000</td>\n",
       "      <td>463.000000</td>\n",
       "      <td>1950.000000</td>\n",
       "      <td>54.000000</td>\n",
       "      <td>2.000000</td>\n",
       "      <td>9112.000000</td>\n",
       "      <td>2.000000</td>\n",
       "      <td>2.000000</td>\n",
       "      <td>30.000000</td>\n",
       "      <td>5.521886e+00</td>\n",
       "      <td>120.000000</td>\n",
       "    </tr>\n",
       "    <tr>\n",
       "      <th>50%</th>\n",
       "      <td>133707.500000</td>\n",
       "      <td>134.00000</td>\n",
       "      <td>630.000000</td>\n",
       "      <td>1964.000000</td>\n",
       "      <td>66.000000</td>\n",
       "      <td>3.000000</td>\n",
       "      <td>35415.000000</td>\n",
       "      <td>3.000000</td>\n",
       "      <td>3.000000</td>\n",
       "      <td>58.000000</td>\n",
       "      <td>7.166667e+00</td>\n",
       "      <td>150.000000</td>\n",
       "    </tr>\n",
       "    <tr>\n",
       "      <th>75%</th>\n",
       "      <td>201174.750000</td>\n",
       "      <td>180.00000</td>\n",
       "      <td>950.000000</td>\n",
       "      <td>1992.000000</td>\n",
       "      <td>84.000000</td>\n",
       "      <td>5.000000</td>\n",
       "      <td>53179.000000</td>\n",
       "      <td>3.000000</td>\n",
       "      <td>3.000000</td>\n",
       "      <td>72.000000</td>\n",
       "      <td>1.000000e+01</td>\n",
       "      <td>200.000000</td>\n",
       "    </tr>\n",
       "    <tr>\n",
       "      <th>max</th>\n",
       "      <td>268847.000000</td>\n",
       "      <td>1164.19000</td>\n",
       "      <td>3000.000000</td>\n",
       "      <td>2021.000000</td>\n",
       "      <td>364.000000</td>\n",
       "      <td>9.000000</td>\n",
       "      <td>99994.000000</td>\n",
       "      <td>6.000000</td>\n",
       "      <td>5.000000</td>\n",
       "      <td>161.000000</td>\n",
       "      <td>inf</td>\n",
       "      <td>984.000000</td>\n",
       "    </tr>\n",
       "  </tbody>\n",
       "</table>\n",
       "</div>"
      ],
      "text/plain": [
       "          Unnamed: 0  serviceCharge      totalRent  yearConstructed  \\\n",
       "count  179770.000000   178117.00000  179770.000000    179770.000000   \n",
       "mean   134025.587167      145.56906     763.638309      1965.595071   \n",
       "std     77578.092449       74.00186     416.991114        34.482667   \n",
       "min         0.000000        0.00000       0.000000      1861.000000   \n",
       "25%     66866.250000       95.00000     463.000000      1950.000000   \n",
       "50%    133707.500000      134.00000     630.000000      1964.000000   \n",
       "75%    201174.750000      180.00000     950.000000      1992.000000   \n",
       "max    268847.000000     1164.19000    3000.000000      2021.000000   \n",
       "\n",
       "         livingSpace  baseRentRange        geo_plz        noRooms  \\\n",
       "count  179770.000000  179770.000000  179770.000000  179770.000000   \n",
       "mean       70.965528       3.617400   35429.450626       2.589332   \n",
       "std        27.420886       2.118382   27685.180905       0.919509   \n",
       "min         0.000000       1.000000     852.000000       1.000000   \n",
       "25%        54.000000       2.000000    9112.000000       2.000000   \n",
       "50%        66.000000       3.000000   35415.000000       3.000000   \n",
       "75%        84.000000       5.000000   53179.000000       3.000000   \n",
       "max       364.000000       9.000000   99994.000000       6.000000   \n",
       "\n",
       "        noRoomsRange   numberOfYear      Pricepm2   additioncost  \n",
       "count  179770.000000  179770.000000  1.797650e+05  179770.000000  \n",
       "mean        2.540674      56.404929           inf     166.018228  \n",
       "std         0.903646      34.482667           NaN      78.850633  \n",
       "min         1.000000       1.000000  0.000000e+00    -650.520000  \n",
       "25%         2.000000      30.000000  5.521886e+00     120.000000  \n",
       "50%         3.000000      58.000000  7.166667e+00     150.000000  \n",
       "75%         3.000000      72.000000  1.000000e+01     200.000000  \n",
       "max         5.000000     161.000000           inf     984.000000  "
      ]
     },
     "execution_count": 19,
     "metadata": {},
     "output_type": "execute_result"
    }
   ],
   "source": [
    "df_immo2.describe()"
   ]
  },
  {
   "cell_type": "code",
   "execution_count": 20,
   "id": "9cd608dd",
   "metadata": {},
   "outputs": [
    {
     "data": {
      "text/plain": [
       "Unnamed: 0           int64\n",
       "regio1              object\n",
       "serviceCharge      float64\n",
       "heatingType         object\n",
       "newlyConst            bool\n",
       "balcony               bool\n",
       "totalRent          float64\n",
       "yearConstructed    float64\n",
       "hasKitchen            bool\n",
       "geo_bln             object\n",
       "cellar                bool\n",
       "livingSpace        float64\n",
       "geo_krs             object\n",
       "condition           object\n",
       "lift                  bool\n",
       "baseRentRange        int64\n",
       "typeOfFlat          object\n",
       "geo_plz              int64\n",
       "noRooms            float64\n",
       "noRoomsRange         int64\n",
       "regio2              object\n",
       "numberOfYear       float64\n",
       "Pricepm2           float64\n",
       "additioncost       float64\n",
       "dtype: object"
      ]
     },
     "execution_count": 20,
     "metadata": {},
     "output_type": "execute_result"
    }
   ],
   "source": [
    "df_immo2.dtypes"
   ]
  },
  {
   "cell_type": "code",
   "execution_count": 21,
   "id": "37d6c151",
   "metadata": {},
   "outputs": [
    {
     "data": {
      "text/plain": [
       "Unnamed: 0            0\n",
       "regio1                0\n",
       "serviceCharge      1653\n",
       "heatingType           0\n",
       "newlyConst            0\n",
       "balcony               0\n",
       "totalRent             0\n",
       "yearConstructed       0\n",
       "hasKitchen            0\n",
       "geo_bln               0\n",
       "cellar                0\n",
       "livingSpace           0\n",
       "geo_krs               0\n",
       "condition             0\n",
       "lift                  0\n",
       "baseRentRange         0\n",
       "typeOfFlat            0\n",
       "geo_plz               0\n",
       "noRooms               0\n",
       "noRoomsRange          0\n",
       "regio2                0\n",
       "numberOfYear          0\n",
       "Pricepm2              5\n",
       "additioncost          0\n",
       "dtype: int64"
      ]
     },
     "execution_count": 21,
     "metadata": {},
     "output_type": "execute_result"
    }
   ],
   "source": [
    "df_immo2.isnull().sum()"
   ]
  },
  {
   "cell_type": "code",
   "execution_count": 22,
   "id": "603b9f69",
   "metadata": {},
   "outputs": [
    {
     "data": {
      "text/html": [
       "<div>\n",
       "<style scoped>\n",
       "    .dataframe tbody tr th:only-of-type {\n",
       "        vertical-align: middle;\n",
       "    }\n",
       "\n",
       "    .dataframe tbody tr th {\n",
       "        vertical-align: top;\n",
       "    }\n",
       "\n",
       "    .dataframe thead th {\n",
       "        text-align: right;\n",
       "    }\n",
       "</style>\n",
       "<table border=\"1\" class=\"dataframe\">\n",
       "  <thead>\n",
       "    <tr style=\"text-align: right;\">\n",
       "      <th></th>\n",
       "      <th>Unnamed: 0</th>\n",
       "      <th>regio1</th>\n",
       "      <th>serviceCharge</th>\n",
       "      <th>heatingType</th>\n",
       "      <th>newlyConst</th>\n",
       "      <th>balcony</th>\n",
       "      <th>totalRent</th>\n",
       "      <th>yearConstructed</th>\n",
       "      <th>hasKitchen</th>\n",
       "      <th>geo_bln</th>\n",
       "      <th>...</th>\n",
       "      <th>lift</th>\n",
       "      <th>baseRentRange</th>\n",
       "      <th>typeOfFlat</th>\n",
       "      <th>geo_plz</th>\n",
       "      <th>noRooms</th>\n",
       "      <th>noRoomsRange</th>\n",
       "      <th>regio2</th>\n",
       "      <th>numberOfYear</th>\n",
       "      <th>Pricepm2</th>\n",
       "      <th>additioncost</th>\n",
       "    </tr>\n",
       "  </thead>\n",
       "  <tbody>\n",
       "    <tr>\n",
       "      <th>0</th>\n",
       "      <td>0</td>\n",
       "      <td>Nordrhein_Westfalen</td>\n",
       "      <td>245.0</td>\n",
       "      <td>central_heating</td>\n",
       "      <td>False</td>\n",
       "      <td>False</td>\n",
       "      <td>840.0</td>\n",
       "      <td>1965.0</td>\n",
       "      <td>False</td>\n",
       "      <td>Nordrhein_Westfalen</td>\n",
       "      <td>...</td>\n",
       "      <td>False</td>\n",
       "      <td>4</td>\n",
       "      <td>ground_floor</td>\n",
       "      <td>44269</td>\n",
       "      <td>4.0</td>\n",
       "      <td>4</td>\n",
       "      <td>Dortmund</td>\n",
       "      <td>57.0</td>\n",
       "      <td>6.918605</td>\n",
       "      <td>245.0</td>\n",
       "    </tr>\n",
       "    <tr>\n",
       "      <th>1</th>\n",
       "      <td>2</td>\n",
       "      <td>Sachsen</td>\n",
       "      <td>255.0</td>\n",
       "      <td>floor_heating</td>\n",
       "      <td>True</td>\n",
       "      <td>True</td>\n",
       "      <td>1300.0</td>\n",
       "      <td>2019.0</td>\n",
       "      <td>False</td>\n",
       "      <td>Sachsen</td>\n",
       "      <td>...</td>\n",
       "      <td>True</td>\n",
       "      <td>6</td>\n",
       "      <td>apartment</td>\n",
       "      <td>1097</td>\n",
       "      <td>3.0</td>\n",
       "      <td>3</td>\n",
       "      <td>Dresden</td>\n",
       "      <td>3.0</td>\n",
       "      <td>11.515513</td>\n",
       "      <td>335.0</td>\n",
       "    </tr>\n",
       "    <tr>\n",
       "      <th>2</th>\n",
       "      <td>4</td>\n",
       "      <td>Bremen</td>\n",
       "      <td>138.0</td>\n",
       "      <td>self_contained_central_heating</td>\n",
       "      <td>False</td>\n",
       "      <td>True</td>\n",
       "      <td>903.0</td>\n",
       "      <td>1950.0</td>\n",
       "      <td>False</td>\n",
       "      <td>Bremen</td>\n",
       "      <td>...</td>\n",
       "      <td>False</td>\n",
       "      <td>5</td>\n",
       "      <td>apartment</td>\n",
       "      <td>28213</td>\n",
       "      <td>3.0</td>\n",
       "      <td>3</td>\n",
       "      <td>Bremen</td>\n",
       "      <td>72.0</td>\n",
       "      <td>9.003178</td>\n",
       "      <td>138.0</td>\n",
       "    </tr>\n",
       "    <tr>\n",
       "      <th>3</th>\n",
       "      <td>6</td>\n",
       "      <td>Sachsen</td>\n",
       "      <td>70.0</td>\n",
       "      <td>self_contained_central_heating</td>\n",
       "      <td>False</td>\n",
       "      <td>False</td>\n",
       "      <td>380.0</td>\n",
       "      <td>1958.0</td>\n",
       "      <td>False</td>\n",
       "      <td>Sachsen</td>\n",
       "      <td>...</td>\n",
       "      <td>False</td>\n",
       "      <td>2</td>\n",
       "      <td>apartment</td>\n",
       "      <td>9599</td>\n",
       "      <td>2.0</td>\n",
       "      <td>2</td>\n",
       "      <td>Mittelsachsen_Kreis</td>\n",
       "      <td>64.0</td>\n",
       "      <td>5.000000</td>\n",
       "      <td>70.0</td>\n",
       "    </tr>\n",
       "    <tr>\n",
       "      <th>4</th>\n",
       "      <td>8</td>\n",
       "      <td>Baden_Württemberg</td>\n",
       "      <td>110.0</td>\n",
       "      <td>oil_heating</td>\n",
       "      <td>False</td>\n",
       "      <td>False</td>\n",
       "      <td>690.0</td>\n",
       "      <td>1970.0</td>\n",
       "      <td>True</td>\n",
       "      <td>Baden_Württemberg</td>\n",
       "      <td>...</td>\n",
       "      <td>False</td>\n",
       "      <td>4</td>\n",
       "      <td>roof_storey</td>\n",
       "      <td>79211</td>\n",
       "      <td>2.0</td>\n",
       "      <td>2</td>\n",
       "      <td>Emmendingen_Kreis</td>\n",
       "      <td>52.0</td>\n",
       "      <td>10.943396</td>\n",
       "      <td>110.0</td>\n",
       "    </tr>\n",
       "  </tbody>\n",
       "</table>\n",
       "<p>5 rows × 24 columns</p>\n",
       "</div>"
      ],
      "text/plain": [
       "   Unnamed: 0               regio1  serviceCharge  \\\n",
       "0           0  Nordrhein_Westfalen          245.0   \n",
       "1           2              Sachsen          255.0   \n",
       "2           4               Bremen          138.0   \n",
       "3           6              Sachsen           70.0   \n",
       "4           8    Baden_Württemberg          110.0   \n",
       "\n",
       "                      heatingType  newlyConst  balcony  totalRent  \\\n",
       "0                 central_heating       False    False      840.0   \n",
       "1                   floor_heating        True     True     1300.0   \n",
       "2  self_contained_central_heating       False     True      903.0   \n",
       "3  self_contained_central_heating       False    False      380.0   \n",
       "4                     oil_heating       False    False      690.0   \n",
       "\n",
       "   yearConstructed  hasKitchen              geo_bln  ...   lift  \\\n",
       "0           1965.0       False  Nordrhein_Westfalen  ...  False   \n",
       "1           2019.0       False              Sachsen  ...   True   \n",
       "2           1950.0       False               Bremen  ...  False   \n",
       "3           1958.0       False              Sachsen  ...  False   \n",
       "4           1970.0        True    Baden_Württemberg  ...  False   \n",
       "\n",
       "   baseRentRange    typeOfFlat geo_plz  noRooms  noRoomsRange  \\\n",
       "0              4  ground_floor   44269      4.0             4   \n",
       "1              6     apartment    1097      3.0             3   \n",
       "2              5     apartment   28213      3.0             3   \n",
       "3              2     apartment    9599      2.0             2   \n",
       "4              4   roof_storey   79211      2.0             2   \n",
       "\n",
       "                regio2  numberOfYear   Pricepm2  additioncost  \n",
       "0             Dortmund          57.0   6.918605         245.0  \n",
       "1              Dresden           3.0  11.515513         335.0  \n",
       "2               Bremen          72.0   9.003178         138.0  \n",
       "3  Mittelsachsen_Kreis          64.0   5.000000          70.0  \n",
       "4    Emmendingen_Kreis          52.0  10.943396         110.0  \n",
       "\n",
       "[5 rows x 24 columns]"
      ]
     },
     "execution_count": 22,
     "metadata": {},
     "output_type": "execute_result"
    }
   ],
   "source": [
    "df_immo2.head()"
   ]
  },
  {
   "cell_type": "markdown",
   "id": "87b438de",
   "metadata": {},
   "source": [
    "# 4 Checking Extreme Values"
   ]
  },
  {
   "cell_type": "code",
   "execution_count": 23,
   "id": "6e7d48c3",
   "metadata": {},
   "outputs": [
    {
     "name": "stderr",
     "output_type": "stream",
     "text": [
      "C:\\ProgramData\\Anaconda3\\lib\\site-packages\\seaborn\\distributions.py:2619: FutureWarning: `distplot` is a deprecated function and will be removed in a future version. Please adapt your code to use either `displot` (a figure-level function with similar flexibility) or `histplot` (an axes-level function for histograms).\n",
      "  warnings.warn(msg, FutureWarning)\n"
     ]
    },
    {
     "data": {
      "text/plain": [
       "<AxesSubplot:xlabel='totalRent', ylabel='Density'>"
      ]
     },
     "execution_count": 23,
     "metadata": {},
     "output_type": "execute_result"
    },
    {
     "data": {
      "image/png": "[encoded data removed]",
      "text/plain": [
       "<Figure size 432x288 with 1 Axes>"
      ]
     },
     "metadata": {
      "needs_background": "light"
     },
     "output_type": "display_data"
    }
   ],
   "source": [
    "# checking for total rent cost\n",
    "sns.distplot(df_immo2['totalRent'], bins=25)"
   ]
  },
  {
   "cell_type": "code",
   "execution_count": 24,
   "id": "869b2bb5",
   "metadata": {},
   "outputs": [
    {
     "name": "stderr",
     "output_type": "stream",
     "text": [
      "C:\\ProgramData\\Anaconda3\\lib\\site-packages\\seaborn\\distributions.py:2619: FutureWarning: `distplot` is a deprecated function and will be removed in a future version. Please adapt your code to use either `displot` (a figure-level function with similar flexibility) or `histplot` (an axes-level function for histograms).\n",
      "  warnings.warn(msg, FutureWarning)\n"
     ]
    },
    {
     "data": {
      "text/plain": [
       "<AxesSubplot:xlabel='livingSpace', ylabel='Density'>"
      ]
     },
     "execution_count": 24,
     "metadata": {},
     "output_type": "execute_result"
    },
    {
     "data": {
      "image/png": "[encoded data removed]",
      "text/plain": [
       "<Figure size 432x288 with 1 Axes>"
      ]
     },
     "metadata": {
      "needs_background": "light"
     },
     "output_type": "display_data"
    }
   ],
   "source": [
    "# Checking for living space\n",
    "sns.distplot(df_immo2['livingSpace'], bins=25)"
   ]
  },
  {
   "cell_type": "code",
   "execution_count": 25,
   "id": "7e0c9fb5",
   "metadata": {},
   "outputs": [
    {
     "name": "stderr",
     "output_type": "stream",
     "text": [
      "C:\\ProgramData\\Anaconda3\\lib\\site-packages\\seaborn\\distributions.py:2619: FutureWarning: `distplot` is a deprecated function and will be removed in a future version. Please adapt your code to use either `displot` (a figure-level function with similar flexibility) or `histplot` (an axes-level function for histograms).\n",
      "  warnings.warn(msg, FutureWarning)\n"
     ]
    },
    {
     "data": {
      "text/plain": [
       "<AxesSubplot:xlabel='serviceCharge', ylabel='Density'>"
      ]
     },
     "execution_count": 25,
     "metadata": {},
     "output_type": "execute_result"
    },
    {
     "data": {
      "image/png": "[encoded data removed]",
      "text/plain": [
       "<Figure size 432x288 with 1 Axes>"
      ]
     },
     "metadata": {
      "needs_background": "light"
     },
     "output_type": "display_data"
    }
   ],
   "source": [
    "#checking for cost of service (heating + ebergy + water)\n",
    "sns.distplot(df_immo2['serviceCharge'], bins=25)"
   ]
  },
  {
   "cell_type": "code",
   "execution_count": 26,
   "id": "bb859f8c",
   "metadata": {},
   "outputs": [
    {
     "data": {
      "text/html": [
       "<div>\n",
       "<style scoped>\n",
       "    .dataframe tbody tr th:only-of-type {\n",
       "        vertical-align: middle;\n",
       "    }\n",
       "\n",
       "    .dataframe tbody tr th {\n",
       "        vertical-align: top;\n",
       "    }\n",
       "\n",
       "    .dataframe thead th {\n",
       "        text-align: right;\n",
       "    }\n",
       "</style>\n",
       "<table border=\"1\" class=\"dataframe\">\n",
       "  <thead>\n",
       "    <tr style=\"text-align: right;\">\n",
       "      <th></th>\n",
       "      <th>totalRent</th>\n",
       "      <th>livingSpace</th>\n",
       "      <th>serviceCharge</th>\n",
       "      <th>Pricepm2</th>\n",
       "    </tr>\n",
       "  </thead>\n",
       "  <tbody>\n",
       "    <tr>\n",
       "      <th>count</th>\n",
       "      <td>179770.000000</td>\n",
       "      <td>179770.000000</td>\n",
       "      <td>178117.00000</td>\n",
       "      <td>1.797650e+05</td>\n",
       "    </tr>\n",
       "    <tr>\n",
       "      <th>mean</th>\n",
       "      <td>763.638309</td>\n",
       "      <td>70.965528</td>\n",
       "      <td>145.56906</td>\n",
       "      <td>inf</td>\n",
       "    </tr>\n",
       "    <tr>\n",
       "      <th>std</th>\n",
       "      <td>416.991114</td>\n",
       "      <td>27.420886</td>\n",
       "      <td>74.00186</td>\n",
       "      <td>NaN</td>\n",
       "    </tr>\n",
       "    <tr>\n",
       "      <th>min</th>\n",
       "      <td>0.000000</td>\n",
       "      <td>0.000000</td>\n",
       "      <td>0.00000</td>\n",
       "      <td>0.000000e+00</td>\n",
       "    </tr>\n",
       "    <tr>\n",
       "      <th>25%</th>\n",
       "      <td>463.000000</td>\n",
       "      <td>54.000000</td>\n",
       "      <td>95.00000</td>\n",
       "      <td>5.521886e+00</td>\n",
       "    </tr>\n",
       "    <tr>\n",
       "      <th>50%</th>\n",
       "      <td>630.000000</td>\n",
       "      <td>66.000000</td>\n",
       "      <td>134.00000</td>\n",
       "      <td>7.166667e+00</td>\n",
       "    </tr>\n",
       "    <tr>\n",
       "      <th>75%</th>\n",
       "      <td>950.000000</td>\n",
       "      <td>84.000000</td>\n",
       "      <td>180.00000</td>\n",
       "      <td>1.000000e+01</td>\n",
       "    </tr>\n",
       "    <tr>\n",
       "      <th>max</th>\n",
       "      <td>3000.000000</td>\n",
       "      <td>364.000000</td>\n",
       "      <td>1164.19000</td>\n",
       "      <td>inf</td>\n",
       "    </tr>\n",
       "  </tbody>\n",
       "</table>\n",
       "</div>"
      ],
      "text/plain": [
       "           totalRent    livingSpace  serviceCharge      Pricepm2\n",
       "count  179770.000000  179770.000000   178117.00000  1.797650e+05\n",
       "mean      763.638309      70.965528      145.56906           inf\n",
       "std       416.991114      27.420886       74.00186           NaN\n",
       "min         0.000000       0.000000        0.00000  0.000000e+00\n",
       "25%       463.000000      54.000000       95.00000  5.521886e+00\n",
       "50%       630.000000      66.000000      134.00000  7.166667e+00\n",
       "75%       950.000000      84.000000      180.00000  1.000000e+01\n",
       "max      3000.000000     364.000000     1164.19000           inf"
      ]
     },
     "execution_count": 26,
     "metadata": {},
     "output_type": "execute_result"
    }
   ],
   "source": [
    "# describing key variables\n",
    "df_immo2[['totalRent', 'livingSpace', 'serviceCharge', 'Pricepm2']].describe()"
   ]
  },
  {
   "cell_type": "markdown",
   "id": "0bb3fa9f",
   "metadata": {},
   "source": [
    "# 5 preparing data for regression analysis"
   ]
  },
  {
   "cell_type": "code",
   "execution_count": 27,
   "id": "c2168e0f",
   "metadata": {},
   "outputs": [
    {
     "data": {
      "image/png": "[encoded data removed]",
      "text/plain": [
       "<Figure size 432x288 with 1 Axes>"
      ]
     },
     "metadata": {
      "needs_background": "light"
     },
     "output_type": "display_data"
    }
   ],
   "source": [
    "# Creating a scatterplot to looking for variables' relationship to be tested\n",
    "# Create a scatterplot using matplotlib for another look at how the chosen variables plot against each other.\n",
    "\n",
    "df_immo2.plot(x = 'totalRent', y='livingSpace',style='o')\n",
    "plt.title('totalRent vs Living Space')  \n",
    "plt.xlabel('Total Rent')  \n",
    "plt.ylabel('Living Space')  \n",
    "plt.show()"
   ]
  },
  {
   "cell_type": "markdown",
   "id": "b4dcfadb",
   "metadata": {},
   "source": [
    "# 6 Reshaping the variables"
   ]
  },
  {
   "cell_type": "code",
   "execution_count": 28,
   "id": "75e6ee7f",
   "metadata": {},
   "outputs": [],
   "source": [
    "# Reshaping the variables into NumPy arrays and putting them into separate objects\n",
    "\n",
    "X = df_immo2['totalRent'].values.reshape(-1,1)\n",
    "y = df_immo2['livingSpace'].values.reshape(-1,1)"
   ]
  },
  {
   "cell_type": "code",
   "execution_count": 29,
   "id": "52ae4a8d",
   "metadata": {},
   "outputs": [],
   "source": [
    "# Splitting the data into a training set and a test set.\n",
    "\n",
    "X_train, X_test, y_train, y_test = train_test_split(X, y, test_size=0.3, random_state=0)"
   ]
  },
  {
   "cell_type": "markdown",
   "id": "9f087a9a",
   "metadata": {},
   "source": [
    "# 7 Regression Analysis"
   ]
  },
  {
   "cell_type": "code",
   "execution_count": 30,
   "id": "8d8feeca",
   "metadata": {},
   "outputs": [],
   "source": [
    "# Creating a regression object.\n",
    "\n",
    "regression = LinearRegression()  # This is the regression object, which will be fit onto the training set."
   ]
  },
  {
   "cell_type": "code",
   "execution_count": 31,
   "id": "6ac789f7",
   "metadata": {},
   "outputs": [
    {
     "data": {
      "text/plain": [
       "LinearRegression()"
      ]
     },
     "execution_count": 31,
     "metadata": {},
     "output_type": "execute_result"
    }
   ],
   "source": [
    "# Fit the regression object onto the training set.\n",
    "\n",
    "regression.fit(X_train, y_train) # training the model"
   ]
  },
  {
   "cell_type": "code",
   "execution_count": 32,
   "id": "baa93dab",
   "metadata": {},
   "outputs": [],
   "source": [
    "# Predict the values of y using X.\n",
    "# Using the model on the test data set to predict some y values and see how accurate they are.\n",
    "\n",
    "y_predicted = regression.predict(X_test) "
   ]
  },
  {
   "cell_type": "code",
   "execution_count": 33,
   "id": "91e5be2d",
   "metadata": {},
   "outputs": [
    {
     "data": {
      "image/png": "[encoded data removed]",
      "text/plain": [
       "<Figure size 432x288 with 1 Axes>"
      ]
     },
     "metadata": {
      "needs_background": "light"
     },
     "output_type": "display_data"
    }
   ],
   "source": [
    "# Creating a plot that shows the regression line from the model on the test set.\n",
    "\n",
    "plot_test = plt\n",
    "plot_test.scatter(X_test, y_test, color='black', s = 15)\n",
    "plot_test.plot(X_test, y_predicted, color='red', linewidth =3)\n",
    "plot_test.title('Total Rent vs Living Space (Test set)')\n",
    "plot_test.xlabel('Total Rent')\n",
    "plot_test.ylabel('Living Space')\n",
    "plot_test.show()"
   ]
  },
  {
   "cell_type": "code",
   "execution_count": 34,
   "id": "79e4b02f",
   "metadata": {},
   "outputs": [],
   "source": [
    "# Checking the accuracy of the model - mean squared error and R2.\n",
    "# Creating objects that contain the model summary statistics.\n",
    "\n",
    "rmse = mean_squared_error(y_test, y_predicted) # This is the mean squared error\n",
    "r2 = r2_score(y_test, y_predicted) # This is the R2 score. "
   ]
  },
  {
   "cell_type": "code",
   "execution_count": 35,
   "id": "29171a56",
   "metadata": {},
   "outputs": [
    {
     "name": "stdout",
     "output_type": "stream",
     "text": [
      "Slope: [[0.04752832]]\n",
      "Mean squared error:  358.40920634904097\n",
      "R2 score:  0.525199213397465\n"
     ]
    }
   ],
   "source": [
    "# Printing the model's summary statistics. \n",
    "\n",
    "print('Slope:' ,regression.coef_)\n",
    "print('Mean squared error: ', rmse)\n",
    "print('R2 score: ', r2)"
   ]
  },
  {
   "cell_type": "markdown",
   "id": "155f4cc9",
   "metadata": {},
   "source": [
    "# The slope coefficient indicates how the y variable changes when X changes.\n",
    "\n",
    "# The root mean squared error (MSE) is an estimator that measures the average  of the squared difference between the estimated values and the true values. It  states how close a regression line is to a set of points. A small MSE means that  the regression line passes fairly close to the observations, making it a good fit.  I would interpret the result moderate to high MSE, so the linear regression line  is not a fairly good fit for this analysis.\n",
    "\n",
    "# The R2 score or R squared is a metric that shows how well the model explains the variance in the data. It’s a number between 0 and 1, where values closer to 0 indicate a poor fit, and values closer to 1 indicate a good fit. I would interpret the result as the fit is average, it is not close to 1 but is not close to 0 either."
   ]
  },
  {
   "cell_type": "code",
   "execution_count": 36,
   "id": "3533e18a",
   "metadata": {},
   "outputs": [
    {
     "data": {
      "text/plain": [
       "array([[61.73316811],\n",
       "       [77.67891955],\n",
       "       [85.04580918],\n",
       "       ...,\n",
       "       [71.6223857 ],\n",
       "       [51.53834343],\n",
       "       [66.03448109]])"
      ]
     },
     "execution_count": 36,
     "metadata": {},
     "output_type": "execute_result"
    }
   ],
   "source": [
    "# Making a dataframe of y values and their predicted values to further see the performance of the model \n",
    "\n",
    "y_predicted"
   ]
  },
  {
   "cell_type": "code",
   "execution_count": 37,
   "id": "df28403c",
   "metadata": {},
   "outputs": [
    {
     "data": {
      "text/html": [
       "<div>\n",
       "<style scoped>\n",
       "    .dataframe tbody tr th:only-of-type {\n",
       "        vertical-align: middle;\n",
       "    }\n",
       "\n",
       "    .dataframe tbody tr th {\n",
       "        vertical-align: top;\n",
       "    }\n",
       "\n",
       "    .dataframe thead th {\n",
       "        text-align: right;\n",
       "    }\n",
       "</style>\n",
       "<table border=\"1\" class=\"dataframe\">\n",
       "  <thead>\n",
       "    <tr style=\"text-align: right;\">\n",
       "      <th></th>\n",
       "      <th>Actual</th>\n",
       "      <th>Predicted</th>\n",
       "    </tr>\n",
       "  </thead>\n",
       "  <tbody>\n",
       "    <tr>\n",
       "      <th>0</th>\n",
       "      <td>58.92</td>\n",
       "      <td>61.733168</td>\n",
       "    </tr>\n",
       "    <tr>\n",
       "      <th>1</th>\n",
       "      <td>88.00</td>\n",
       "      <td>77.678920</td>\n",
       "    </tr>\n",
       "    <tr>\n",
       "      <th>2</th>\n",
       "      <td>102.00</td>\n",
       "      <td>85.045809</td>\n",
       "    </tr>\n",
       "    <tr>\n",
       "      <th>3</th>\n",
       "      <td>80.00</td>\n",
       "      <td>65.083915</td>\n",
       "    </tr>\n",
       "    <tr>\n",
       "      <th>4</th>\n",
       "      <td>94.00</td>\n",
       "      <td>62.707499</td>\n",
       "    </tr>\n",
       "    <tr>\n",
       "      <th>5</th>\n",
       "      <td>57.73</td>\n",
       "      <td>51.942334</td>\n",
       "    </tr>\n",
       "    <tr>\n",
       "      <th>6</th>\n",
       "      <td>60.00</td>\n",
       "      <td>59.855799</td>\n",
       "    </tr>\n",
       "    <tr>\n",
       "      <th>7</th>\n",
       "      <td>32.00</td>\n",
       "      <td>47.973719</td>\n",
       "    </tr>\n",
       "    <tr>\n",
       "      <th>8</th>\n",
       "      <td>58.36</td>\n",
       "      <td>52.840619</td>\n",
       "    </tr>\n",
       "    <tr>\n",
       "      <th>9</th>\n",
       "      <td>59.28</td>\n",
       "      <td>59.459413</td>\n",
       "    </tr>\n",
       "    <tr>\n",
       "      <th>10</th>\n",
       "      <td>50.45</td>\n",
       "      <td>55.904295</td>\n",
       "    </tr>\n",
       "    <tr>\n",
       "      <th>11</th>\n",
       "      <td>58.90</td>\n",
       "      <td>54.366278</td>\n",
       "    </tr>\n",
       "    <tr>\n",
       "      <th>12</th>\n",
       "      <td>67.90</td>\n",
       "      <td>58.667591</td>\n",
       "    </tr>\n",
       "    <tr>\n",
       "      <th>13</th>\n",
       "      <td>78.00</td>\n",
       "      <td>57.621968</td>\n",
       "    </tr>\n",
       "    <tr>\n",
       "      <th>14</th>\n",
       "      <td>110.00</td>\n",
       "      <td>75.064862</td>\n",
       "    </tr>\n",
       "    <tr>\n",
       "      <th>15</th>\n",
       "      <td>80.73</td>\n",
       "      <td>112.939705</td>\n",
       "    </tr>\n",
       "    <tr>\n",
       "      <th>16</th>\n",
       "      <td>108.60</td>\n",
       "      <td>81.243544</td>\n",
       "    </tr>\n",
       "    <tr>\n",
       "      <th>17</th>\n",
       "      <td>150.61</td>\n",
       "      <td>122.712003</td>\n",
       "    </tr>\n",
       "    <tr>\n",
       "      <th>18</th>\n",
       "      <td>80.00</td>\n",
       "      <td>100.967796</td>\n",
       "    </tr>\n",
       "    <tr>\n",
       "      <th>19</th>\n",
       "      <td>75.00</td>\n",
       "      <td>77.441278</td>\n",
       "    </tr>\n",
       "    <tr>\n",
       "      <th>20</th>\n",
       "      <td>84.00</td>\n",
       "      <td>81.718827</td>\n",
       "    </tr>\n",
       "    <tr>\n",
       "      <th>21</th>\n",
       "      <td>61.09</td>\n",
       "      <td>59.903328</td>\n",
       "    </tr>\n",
       "    <tr>\n",
       "      <th>22</th>\n",
       "      <td>85.00</td>\n",
       "      <td>69.836747</td>\n",
       "    </tr>\n",
       "    <tr>\n",
       "      <th>23</th>\n",
       "      <td>60.34</td>\n",
       "      <td>66.224594</td>\n",
       "    </tr>\n",
       "    <tr>\n",
       "      <th>24</th>\n",
       "      <td>63.00</td>\n",
       "      <td>77.916561</td>\n",
       "    </tr>\n",
       "    <tr>\n",
       "      <th>25</th>\n",
       "      <td>72.00</td>\n",
       "      <td>96.452606</td>\n",
       "    </tr>\n",
       "    <tr>\n",
       "      <th>26</th>\n",
       "      <td>35.00</td>\n",
       "      <td>54.865326</td>\n",
       "    </tr>\n",
       "    <tr>\n",
       "      <th>27</th>\n",
       "      <td>76.00</td>\n",
       "      <td>75.540145</td>\n",
       "    </tr>\n",
       "    <tr>\n",
       "      <th>28</th>\n",
       "      <td>69.14</td>\n",
       "      <td>78.486901</td>\n",
       "    </tr>\n",
       "    <tr>\n",
       "      <th>29</th>\n",
       "      <td>110.76</td>\n",
       "      <td>135.901112</td>\n",
       "    </tr>\n",
       "  </tbody>\n",
       "</table>\n",
       "</div>"
      ],
      "text/plain": [
       "    Actual   Predicted\n",
       "0    58.92   61.733168\n",
       "1    88.00   77.678920\n",
       "2   102.00   85.045809\n",
       "3    80.00   65.083915\n",
       "4    94.00   62.707499\n",
       "5    57.73   51.942334\n",
       "6    60.00   59.855799\n",
       "7    32.00   47.973719\n",
       "8    58.36   52.840619\n",
       "9    59.28   59.459413\n",
       "10   50.45   55.904295\n",
       "11   58.90   54.366278\n",
       "12   67.90   58.667591\n",
       "13   78.00   57.621968\n",
       "14  110.00   75.064862\n",
       "15   80.73  112.939705\n",
       "16  108.60   81.243544\n",
       "17  150.61  122.712003\n",
       "18   80.00  100.967796\n",
       "19   75.00   77.441278\n",
       "20   84.00   81.718827\n",
       "21   61.09   59.903328\n",
       "22   85.00   69.836747\n",
       "23   60.34   66.224594\n",
       "24   63.00   77.916561\n",
       "25   72.00   96.452606\n",
       "26   35.00   54.865326\n",
       "27   76.00   75.540145\n",
       "28   69.14   78.486901\n",
       "29  110.76  135.901112"
      ]
     },
     "execution_count": 37,
     "metadata": {},
     "output_type": "execute_result"
    }
   ],
   "source": [
    "# Creating a dataframe comparing the actual and predicted values of y.\n",
    "\n",
    "data = pd.DataFrame({'Actual': y_test.flatten(), 'Predicted': y_predicted.flatten()})\n",
    "data.head(30)"
   ]
  },
  {
   "cell_type": "markdown",
   "id": "2fdb8e0f",
   "metadata": {},
   "source": [
    "# This output shows there is some differences between the actual and predicted values.\n",
    "\n",
    "# This evidence that the model does not explain with a high level of accuracy the relationship between the “Total Rent' and the 'Living Space” variables.\n",
    "\n",
    "# The relationship doesn’t follow a straight regression line, perhaps further analysis should be indicated to analyse outliers or other variables.**"
   ]
  },
  {
   "cell_type": "code",
   "execution_count": 38,
   "id": "6474bcee",
   "metadata": {},
   "outputs": [],
   "source": [
    "# Comparing how the regression fits the training set\n",
    "\n",
    "y_predicted_train = regression.predict(X_train) # This is predicting X_train!"
   ]
  },
  {
   "cell_type": "code",
   "execution_count": 39,
   "id": "fb55e91f",
   "metadata": {},
   "outputs": [],
   "source": [
    "# Checking the accuracy of the model.\n",
    "\n",
    "rmse = mean_squared_error(y_train, y_predicted_train)\n",
    "r2 = r2_score(y_train, y_predicted_train)"
   ]
  },
  {
   "cell_type": "code",
   "execution_count": 40,
   "id": "449c7797",
   "metadata": {},
   "outputs": [
    {
     "name": "stdout",
     "output_type": "stream",
     "text": [
      "Slope: [[0.04752832]]\n",
      "Mean squared error:  359.4386709248263\n",
      "R2 score:  0.5211500856007092\n"
     ]
    }
   ],
   "source": [
    "# Printing the model's statistics results. \n",
    "\n",
    "print('Slope:' ,regression.coef_)\n",
    "print('Mean squared error: ', rmse)\n",
    "print('R2 score: ', r2)"
   ]
  },
  {
   "cell_type": "code",
   "execution_count": 41,
   "id": "e14d2ca2",
   "metadata": {},
   "outputs": [
    {
     "data": {
      "image/png": "[encoded data removed]",
      "text/plain": [
       "<Figure size 432x288 with 1 Axes>"
      ]
     },
     "metadata": {
      "needs_background": "light"
     },
     "output_type": "display_data"
    }
   ],
   "source": [
    "# Visualizing the training set results.\n",
    "\n",
    "plot_test = plt\n",
    "plot_test.scatter(X_train, y_train, color='black', s = 15)\n",
    "plot_test.plot(X_train, y_predicted_train, color='red', linewidth =3)\n",
    "plot_test.title('Total Rent vs Living Space (Test set)')\n",
    "plot_test.xlabel('Total Rent')\n",
    "plot_test.ylabel('Living Space')\n",
    "plot_test.show()"
   ]
  },
  {
   "cell_type": "markdown",
   "id": "da5e147c",
   "metadata": {},
   "source": [
    "# 8 has any Improvement of the performance removing the extreme values?"
   ]
  },
  {
   "cell_type": "code",
   "execution_count": 42,
   "id": "9b037f00",
   "metadata": {},
   "outputs": [],
   "source": [
    "# Cleaning the extreme values from the \"Government Integrity\" variable observed during the consistency checks.\n",
    "\n",
    "df_test = df_immo2[df_immo2['totalRent'] <=1500] "
   ]
  },
  {
   "cell_type": "code",
   "execution_count": 43,
   "id": "6780d623",
   "metadata": {},
   "outputs": [
    {
     "data": {
      "image/png": "[encoded data removed]",
      "text/plain": [
       "<Figure size 432x288 with 1 Axes>"
      ]
     },
     "metadata": {
      "needs_background": "light"
     },
     "output_type": "display_data"
    }
   ],
   "source": [
    "# Checking how the scatterplot looks without the outliers.\n",
    "\n",
    "df_test.plot(x = 'totalRent', y='livingSpace', style='o')  \n",
    "plt.title('Total Rent vs Living Space')  \n",
    "plt.xlabel('Total Rent')  \n",
    "plt.ylabel('Living Space')  \n",
    "plt.show()"
   ]
  },
  {
   "cell_type": "code",
   "execution_count": 44,
   "id": "ac6f90d6",
   "metadata": {},
   "outputs": [],
   "source": [
    "# Reshape again.\n",
    "\n",
    "X_2 = df_test['totalRent'].values.reshape(-1,1)\n",
    "y_2 = df_test['livingSpace'].values.reshape(-1,1)"
   ]
  },
  {
   "cell_type": "code",
   "execution_count": 45,
   "id": "d24ae391",
   "metadata": {},
   "outputs": [],
   "source": [
    "X_train_2, X_test_2, y_train_2, y_test_2 = train_test_split(X_2, y_2, test_size=0.3, random_state=0)"
   ]
  },
  {
   "cell_type": "code",
   "execution_count": 46,
   "id": "b564b6c2",
   "metadata": {},
   "outputs": [
    {
     "data": {
      "text/plain": [
       "LinearRegression()"
      ]
     },
     "execution_count": 46,
     "metadata": {},
     "output_type": "execute_result"
    }
   ],
   "source": [
    "# Run and fit the regression.\n",
    "\n",
    "regression = LinearRegression()  \n",
    "regression.fit(X_train_2, y_train_2)"
   ]
  },
  {
   "cell_type": "code",
   "execution_count": 47,
   "id": "908b2470",
   "metadata": {},
   "outputs": [],
   "source": [
    "# Predict.\n",
    "\n",
    "y_predicted_2 = regression.predict(X_test_2)"
   ]
  },
  {
   "cell_type": "code",
   "execution_count": 48,
   "id": "ec5de7bf",
   "metadata": {},
   "outputs": [],
   "source": [
    "rmse = mean_squared_error(y_test_2, y_predicted_2)\n",
    "r2 = r2_score(y_test_2, y_predicted_2)"
   ]
  },
  {
   "cell_type": "code",
   "execution_count": 49,
   "id": "5dc21506",
   "metadata": {},
   "outputs": [
    {
     "name": "stdout",
     "output_type": "stream",
     "text": [
      "Slope: [[0.05262124]]\n",
      "Mean squared error:  309.00432778677236\n",
      "R2 score:  0.4468749858806763\n"
     ]
    }
   ],
   "source": [
    "print('Slope:' ,regression.coef_)\n",
    "print('Mean squared error: ', rmse)\n",
    "print('R2 score: ', r2)"
   ]
  },
  {
   "cell_type": "code",
   "execution_count": 50,
   "id": "be53ee60",
   "metadata": {},
   "outputs": [
    {
     "data": {
      "image/png": "[encoded data removed]",
      "text/plain": [
       "<Figure size 432x288 with 1 Axes>"
      ]
     },
     "metadata": {
      "needs_background": "light"
     },
     "output_type": "display_data"
    }
   ],
   "source": [
    "# Visualizing the test set results.\n",
    "\n",
    "plot_test = plt\n",
    "plot_test.scatter(X_test, y_test, color='black', s = 15)\n",
    "plot_test.plot(X_train, regression.predict(X_train), color='red', linewidth =3)\n",
    "plot_test.title('Total Rent vs Living Space (Test set)')\n",
    "plot_test.xlabel('Total Rent')\n",
    "plot_test.ylabel('Living Space')\n",
    "plot_test.show()"
   ]
  },
  {
   "cell_type": "code",
   "execution_count": 51,
   "id": "c6643aa3",
   "metadata": {},
   "outputs": [],
   "source": [
    "data = pd.DataFrame({'Actual': y_test_2.flatten(), 'Predicted': y_predicted_2.flatten()})"
   ]
  },
  {
   "cell_type": "code",
   "execution_count": 52,
   "id": "dfd5d52b",
   "metadata": {},
   "outputs": [
    {
     "data": {
      "text/html": [
       "<div>\n",
       "<style scoped>\n",
       "    .dataframe tbody tr th:only-of-type {\n",
       "        vertical-align: middle;\n",
       "    }\n",
       "\n",
       "    .dataframe tbody tr th {\n",
       "        vertical-align: top;\n",
       "    }\n",
       "\n",
       "    .dataframe thead th {\n",
       "        text-align: right;\n",
       "    }\n",
       "</style>\n",
       "<table border=\"1\" class=\"dataframe\">\n",
       "  <thead>\n",
       "    <tr style=\"text-align: right;\">\n",
       "      <th></th>\n",
       "      <th>Actual</th>\n",
       "      <th>Predicted</th>\n",
       "    </tr>\n",
       "  </thead>\n",
       "  <tbody>\n",
       "    <tr>\n",
       "      <th>0</th>\n",
       "      <td>49.57</td>\n",
       "      <td>58.691572</td>\n",
       "    </tr>\n",
       "    <tr>\n",
       "      <th>1</th>\n",
       "      <td>104.00</td>\n",
       "      <td>77.281077</td>\n",
       "    </tr>\n",
       "    <tr>\n",
       "      <th>2</th>\n",
       "      <td>72.00</td>\n",
       "      <td>65.241337</td>\n",
       "    </tr>\n",
       "    <tr>\n",
       "      <th>3</th>\n",
       "      <td>70.00</td>\n",
       "      <td>76.028691</td>\n",
       "    </tr>\n",
       "    <tr>\n",
       "      <th>4</th>\n",
       "      <td>35.00</td>\n",
       "      <td>45.771479</td>\n",
       "    </tr>\n",
       "    <tr>\n",
       "      <th>5</th>\n",
       "      <td>55.84</td>\n",
       "      <td>58.400576</td>\n",
       "    </tr>\n",
       "    <tr>\n",
       "      <th>6</th>\n",
       "      <td>61.10</td>\n",
       "      <td>63.715322</td>\n",
       "    </tr>\n",
       "    <tr>\n",
       "      <th>7</th>\n",
       "      <td>90.00</td>\n",
       "      <td>77.344222</td>\n",
       "    </tr>\n",
       "    <tr>\n",
       "      <th>8</th>\n",
       "      <td>59.23</td>\n",
       "      <td>74.186948</td>\n",
       "    </tr>\n",
       "    <tr>\n",
       "      <th>9</th>\n",
       "      <td>60.75</td>\n",
       "      <td>55.032817</td>\n",
       "    </tr>\n",
       "    <tr>\n",
       "      <th>10</th>\n",
       "      <td>47.87</td>\n",
       "      <td>61.266855</td>\n",
       "    </tr>\n",
       "    <tr>\n",
       "      <th>11</th>\n",
       "      <td>72.20</td>\n",
       "      <td>59.979214</td>\n",
       "    </tr>\n",
       "    <tr>\n",
       "      <th>12</th>\n",
       "      <td>53.00</td>\n",
       "      <td>55.243302</td>\n",
       "    </tr>\n",
       "    <tr>\n",
       "      <th>13</th>\n",
       "      <td>120.00</td>\n",
       "      <td>81.553922</td>\n",
       "    </tr>\n",
       "    <tr>\n",
       "      <th>14</th>\n",
       "      <td>68.63</td>\n",
       "      <td>58.926789</td>\n",
       "    </tr>\n",
       "    <tr>\n",
       "      <th>15</th>\n",
       "      <td>80.00</td>\n",
       "      <td>89.447107</td>\n",
       "    </tr>\n",
       "    <tr>\n",
       "      <th>16</th>\n",
       "      <td>49.69</td>\n",
       "      <td>51.770300</td>\n",
       "    </tr>\n",
       "    <tr>\n",
       "      <th>17</th>\n",
       "      <td>68.00</td>\n",
       "      <td>68.398612</td>\n",
       "    </tr>\n",
       "    <tr>\n",
       "      <th>18</th>\n",
       "      <td>77.40</td>\n",
       "      <td>65.714929</td>\n",
       "    </tr>\n",
       "    <tr>\n",
       "      <th>19</th>\n",
       "      <td>66.00</td>\n",
       "      <td>52.875346</td>\n",
       "    </tr>\n",
       "    <tr>\n",
       "      <th>20</th>\n",
       "      <td>116.00</td>\n",
       "      <td>71.029674</td>\n",
       "    </tr>\n",
       "    <tr>\n",
       "      <th>21</th>\n",
       "      <td>98.00</td>\n",
       "      <td>73.397629</td>\n",
       "    </tr>\n",
       "    <tr>\n",
       "      <th>22</th>\n",
       "      <td>48.00</td>\n",
       "      <td>55.769514</td>\n",
       "    </tr>\n",
       "    <tr>\n",
       "      <th>23</th>\n",
       "      <td>66.00</td>\n",
       "      <td>76.291798</td>\n",
       "    </tr>\n",
       "    <tr>\n",
       "      <th>24</th>\n",
       "      <td>58.82</td>\n",
       "      <td>53.289475</td>\n",
       "    </tr>\n",
       "    <tr>\n",
       "      <th>25</th>\n",
       "      <td>67.00</td>\n",
       "      <td>64.715125</td>\n",
       "    </tr>\n",
       "    <tr>\n",
       "      <th>26</th>\n",
       "      <td>32.65</td>\n",
       "      <td>43.350902</td>\n",
       "    </tr>\n",
       "    <tr>\n",
       "      <th>27</th>\n",
       "      <td>88.00</td>\n",
       "      <td>73.660736</td>\n",
       "    </tr>\n",
       "    <tr>\n",
       "      <th>28</th>\n",
       "      <td>129.23</td>\n",
       "      <td>99.971355</td>\n",
       "    </tr>\n",
       "    <tr>\n",
       "      <th>29</th>\n",
       "      <td>78.52</td>\n",
       "      <td>68.661718</td>\n",
       "    </tr>\n",
       "  </tbody>\n",
       "</table>\n",
       "</div>"
      ],
      "text/plain": [
       "    Actual  Predicted\n",
       "0    49.57  58.691572\n",
       "1   104.00  77.281077\n",
       "2    72.00  65.241337\n",
       "3    70.00  76.028691\n",
       "4    35.00  45.771479\n",
       "5    55.84  58.400576\n",
       "6    61.10  63.715322\n",
       "7    90.00  77.344222\n",
       "8    59.23  74.186948\n",
       "9    60.75  55.032817\n",
       "10   47.87  61.266855\n",
       "11   72.20  59.979214\n",
       "12   53.00  55.243302\n",
       "13  120.00  81.553922\n",
       "14   68.63  58.926789\n",
       "15   80.00  89.447107\n",
       "16   49.69  51.770300\n",
       "17   68.00  68.398612\n",
       "18   77.40  65.714929\n",
       "19   66.00  52.875346\n",
       "20  116.00  71.029674\n",
       "21   98.00  73.397629\n",
       "22   48.00  55.769514\n",
       "23   66.00  76.291798\n",
       "24   58.82  53.289475\n",
       "25   67.00  64.715125\n",
       "26   32.65  43.350902\n",
       "27   88.00  73.660736\n",
       "28  129.23  99.971355\n",
       "29   78.52  68.661718"
      ]
     },
     "execution_count": 52,
     "metadata": {},
     "output_type": "execute_result"
    }
   ],
   "source": [
    "data.head(30)"
   ]
  },
  {
   "cell_type": "markdown",
   "id": "79af0340",
   "metadata": {},
   "source": [
    "# There are some observation with high difference between the actual and predicted values, but there are others with close values. Although the scatterplot shows a good correlation between the variables, the model's statistics results show that the linear regression model doesn't seem to be a good fit"
   ]
  },
  {
   "cell_type": "code",
   "execution_count": null,
   "id": "097362b2",
   "metadata": {},
   "outputs": [],
   "source": []
  },
  {
   "cell_type": "code",
   "execution_count": null,
   "id": "9bc025a1",
   "metadata": {},
   "outputs": [],
   "source": []
  }
 ],
 "metadata": {
  "kernelspec": {
   "display_name": "Python 3 (ipykernel)",
   "language": "python",
   "name": "python3"
  },
  "language_info": {
   "codemirror_mode": {
    "name": "ipython",
    "version": 3
   },
   "file_extension": ".py",
   "mimetype": "text/x-python",
   "name": "python",
   "nbconvert_exporter": "python",
   "pygments_lexer": "ipython3",
   "version": "3.9.7"
  }
 },
 "nbformat": 4,
 "nbformat_minor": 5
}
